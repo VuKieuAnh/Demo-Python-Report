{
 "cells": [
  {
   "cell_type": "code",
   "execution_count": 18,
   "id": "97da8bb6",
   "metadata": {},
   "outputs": [],
   "source": [
    "import pandas as pd;\n",
    "import os\n",
    "path='/Users/kieuanh/Documents/cao học/ky 1/khai phá dữ liệu và học máy/Sales Reporting /';\n"
   ]
  },
  {
   "cell_type": "code",
   "execution_count": 34,
   "id": "771e447a",
   "metadata": {},
   "outputs": [],
   "source": [
    "frames=[]\n",
    "\n",
    "for f in os.listdir(path):\n",
    "    if f.endswith('.csv'):\n",
    "        filepath = path + f\n",
    "        df1=pd.read_csv(filepath)\n",
    "        frames.append(df1)\n",
    "        result =pd.concat(frames)\n",
    "df = result\n",
    "df.to_csv('annulSales2019.csv', index=False)"
   ]
  },
  {
   "cell_type": "code",
   "execution_count": null,
   "id": "e57727f0",
   "metadata": {},
   "outputs": [],
   "source": [
    "# Task 2.2: Add 'Month' collumn"
   ]
  },
  {
   "cell_type": "code",
   "execution_count": 39,
   "id": "e6b0f4dd",
   "metadata": {},
   "outputs": [
    {
     "data": {
      "text/html": [
       "<div>\n",
       "<style scoped>\n",
       "    .dataframe tbody tr th:only-of-type {\n",
       "        vertical-align: middle;\n",
       "    }\n",
       "\n",
       "    .dataframe tbody tr th {\n",
       "        vertical-align: top;\n",
       "    }\n",
       "\n",
       "    .dataframe thead th {\n",
       "        text-align: right;\n",
       "    }\n",
       "</style>\n",
       "<table border=\"1\" class=\"dataframe\">\n",
       "  <thead>\n",
       "    <tr style=\"text-align: right;\">\n",
       "      <th></th>\n",
       "      <th>Order ID</th>\n",
       "      <th>Product</th>\n",
       "      <th>Quantity Ordered</th>\n",
       "      <th>Price Each</th>\n",
       "      <th>Order Date</th>\n",
       "      <th>Purchase Address</th>\n",
       "      <th>Month</th>\n",
       "    </tr>\n",
       "  </thead>\n",
       "  <tbody>\n",
       "    <tr>\n",
       "      <th>0</th>\n",
       "      <td>162009</td>\n",
       "      <td>iPhone</td>\n",
       "      <td>1</td>\n",
       "      <td>700</td>\n",
       "      <td>03/28/19 20:59</td>\n",
       "      <td>942 Church St, Austin, TX 73301</td>\n",
       "      <td>03</td>\n",
       "    </tr>\n",
       "    <tr>\n",
       "      <th>1</th>\n",
       "      <td>162009</td>\n",
       "      <td>Lightning Charging Cable</td>\n",
       "      <td>1</td>\n",
       "      <td>14.95</td>\n",
       "      <td>03/28/19 20:59</td>\n",
       "      <td>942 Church St, Austin, TX 73301</td>\n",
       "      <td>03</td>\n",
       "    </tr>\n",
       "    <tr>\n",
       "      <th>2</th>\n",
       "      <td>162009</td>\n",
       "      <td>Wired Headphones</td>\n",
       "      <td>2</td>\n",
       "      <td>11.99</td>\n",
       "      <td>03/28/19 20:59</td>\n",
       "      <td>942 Church St, Austin, TX 73301</td>\n",
       "      <td>03</td>\n",
       "    </tr>\n",
       "    <tr>\n",
       "      <th>3</th>\n",
       "      <td>162010</td>\n",
       "      <td>Bose SoundSport Headphones</td>\n",
       "      <td>1</td>\n",
       "      <td>99.99</td>\n",
       "      <td>03/17/19 05:39</td>\n",
       "      <td>261 10th St, San Francisco, CA 94016</td>\n",
       "      <td>03</td>\n",
       "    </tr>\n",
       "    <tr>\n",
       "      <th>4</th>\n",
       "      <td>162011</td>\n",
       "      <td>34in Ultrawide Monitor</td>\n",
       "      <td>1</td>\n",
       "      <td>379.99</td>\n",
       "      <td>03/10/19 00:01</td>\n",
       "      <td>764 13th St, San Francisco, CA 94016</td>\n",
       "      <td>03</td>\n",
       "    </tr>\n",
       "  </tbody>\n",
       "</table>\n",
       "</div>"
      ],
      "text/plain": [
       "  Order ID                     Product Quantity Ordered Price Each  \\\n",
       "0   162009                      iPhone                1        700   \n",
       "1   162009    Lightning Charging Cable                1      14.95   \n",
       "2   162009            Wired Headphones                2      11.99   \n",
       "3   162010  Bose SoundSport Headphones                1      99.99   \n",
       "4   162011      34in Ultrawide Monitor                1     379.99   \n",
       "\n",
       "       Order Date                      Purchase Address Month  \n",
       "0  03/28/19 20:59       942 Church St, Austin, TX 73301    03  \n",
       "1  03/28/19 20:59       942 Church St, Austin, TX 73301    03  \n",
       "2  03/28/19 20:59       942 Church St, Austin, TX 73301    03  \n",
       "3  03/17/19 05:39  261 10th St, San Francisco, CA 94016    03  \n",
       "4  03/10/19 00:01  764 13th St, San Francisco, CA 94016    03  "
      ]
     },
     "execution_count": 39,
     "metadata": {},
     "output_type": "execute_result"
    }
   ],
   "source": [
    "df['Month']=df['Order Date'].str.slice(0, 2, 1)\n",
    "df.head()"
   ]
  },
  {
   "cell_type": "code",
   "execution_count": 46,
   "id": "dcf10619",
   "metadata": {},
   "outputs": [
    {
     "name": "stdout",
     "output_type": "stream",
     "text": [
      "{'12', '01', '02', '10', '11', '04', '03', '07', '09', '06', '08', 'Or', '05'}\n"
     ]
    }
   ],
   "source": [
    "print(set(df['Month']))"
   ]
  },
  {
   "cell_type": "code",
   "execution_count": 44,
   "id": "fe9ceb58",
   "metadata": {},
   "outputs": [],
   "source": [
    "# Task 2.3: Get rid of \"NAN\" and \"OR\" value\n"
   ]
  },
  {
   "cell_type": "code",
   "execution_count": 45,
   "id": "1e741e35",
   "metadata": {},
   "outputs": [],
   "source": [
    "df=df.dropna(how='all')"
   ]
  },
  {
   "cell_type": "code",
   "execution_count": 47,
   "id": "d345fd00",
   "metadata": {},
   "outputs": [
    {
     "ename": "SyntaxError",
     "evalue": "invalid syntax (2698741650.py, line 2)",
     "output_type": "error",
     "traceback": [
      "\u001b[0;36m  File \u001b[0;32m\"/var/folders/wx/328y56rd5zv3l9bg36vyq7280000gn/T/ipykernel_16452/2698741650.py\"\u001b[0;36m, line \u001b[0;32m2\u001b[0m\n\u001b[0;31m    df[df['Month']='Or']\u001b[0m\n\u001b[0m                  ^\u001b[0m\n\u001b[0;31mSyntaxError\u001b[0m\u001b[0;31m:\u001b[0m invalid syntax\n"
     ]
    }
   ],
   "source": [
    "# Kiem tra xem dong nao co gia tri \"OR\"\n",
    "df[df['Month']=='Or']"
   ]
  },
  {
   "cell_type": "code",
   "execution_count": null,
   "id": "287aa8ed",
   "metadata": {},
   "outputs": [],
   "source": []
  }
 ],
 "metadata": {
  "kernelspec": {
   "display_name": "Python 3 (ipykernel)",
   "language": "python",
   "name": "python3"
  },
  "language_info": {
   "codemirror_mode": {
    "name": "ipython",
    "version": 3
   },
   "file_extension": ".py",
   "mimetype": "text/x-python",
   "name": "python",
   "nbconvert_exporter": "python",
   "pygments_lexer": "ipython3",
   "version": "3.9.13"
  }
 },
 "nbformat": 4,
 "nbformat_minor": 5
}
