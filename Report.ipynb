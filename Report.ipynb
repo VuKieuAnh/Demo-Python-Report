{
 "cells": [
  {
   "cell_type": "code",
   "execution_count": 71,
   "id": "1e872744",
   "metadata": {},
   "outputs": [],
   "source": [
    "import pandas as pd;\n",
    "import os\n",
    "import matplotlib.pyplot as plt\n",
    "path='/Users/kieuanh/Documents/cao học/ky 1/khai phá dữ liệu và học máy/Sales Reporting /';\n"
   ]
  },
  {
   "cell_type": "code",
   "execution_count": 34,
   "id": "ec707a97",
   "metadata": {},
   "outputs": [],
   "source": [
    "frames=[]\n",
    "\n",
    "for f in os.listdir(path):\n",
    "    if f.endswith('.csv'):\n",
    "        filepath = path + f\n",
    "        df1=pd.read_csv(filepath)\n",
    "        frames.append(df1)\n",
    "        result =pd.concat(frames)\n",
    "df = result\n",
    "df.to_csv('annulSales2019.csv', index=False)"
   ]
  },
  {
   "cell_type": "code",
   "execution_count": null,
   "id": "1c3d052c",
   "metadata": {},
   "outputs": [],
   "source": [
    "# Task 2.2: Add 'Month' collumn"
   ]
  },
  {
   "cell_type": "code",
   "execution_count": 52,
   "id": "d6bfe139",
   "metadata": {},
   "outputs": [
    {
     "data": {
      "text/html": [
       "<div>\n",
       "<style scoped>\n",
       "    .dataframe tbody tr th:only-of-type {\n",
       "        vertical-align: middle;\n",
       "    }\n",
       "\n",
       "    .dataframe tbody tr th {\n",
       "        vertical-align: top;\n",
       "    }\n",
       "\n",
       "    .dataframe thead th {\n",
       "        text-align: right;\n",
       "    }\n",
       "</style>\n",
       "<table border=\"1\" class=\"dataframe\">\n",
       "  <thead>\n",
       "    <tr style=\"text-align: right;\">\n",
       "      <th></th>\n",
       "      <th>Order ID</th>\n",
       "      <th>Product</th>\n",
       "      <th>Quantity Ordered</th>\n",
       "      <th>Price Each</th>\n",
       "      <th>Order Date</th>\n",
       "      <th>Purchase Address</th>\n",
       "      <th>Month</th>\n",
       "    </tr>\n",
       "  </thead>\n",
       "  <tbody>\n",
       "    <tr>\n",
       "      <th>0</th>\n",
       "      <td>162009</td>\n",
       "      <td>iPhone</td>\n",
       "      <td>1</td>\n",
       "      <td>700</td>\n",
       "      <td>03/28/19 20:59</td>\n",
       "      <td>942 Church St, Austin, TX 73301</td>\n",
       "      <td>03</td>\n",
       "    </tr>\n",
       "    <tr>\n",
       "      <th>1</th>\n",
       "      <td>162009</td>\n",
       "      <td>Lightning Charging Cable</td>\n",
       "      <td>1</td>\n",
       "      <td>14.95</td>\n",
       "      <td>03/28/19 20:59</td>\n",
       "      <td>942 Church St, Austin, TX 73301</td>\n",
       "      <td>03</td>\n",
       "    </tr>\n",
       "    <tr>\n",
       "      <th>2</th>\n",
       "      <td>162009</td>\n",
       "      <td>Wired Headphones</td>\n",
       "      <td>2</td>\n",
       "      <td>11.99</td>\n",
       "      <td>03/28/19 20:59</td>\n",
       "      <td>942 Church St, Austin, TX 73301</td>\n",
       "      <td>03</td>\n",
       "    </tr>\n",
       "    <tr>\n",
       "      <th>3</th>\n",
       "      <td>162010</td>\n",
       "      <td>Bose SoundSport Headphones</td>\n",
       "      <td>1</td>\n",
       "      <td>99.99</td>\n",
       "      <td>03/17/19 05:39</td>\n",
       "      <td>261 10th St, San Francisco, CA 94016</td>\n",
       "      <td>03</td>\n",
       "    </tr>\n",
       "    <tr>\n",
       "      <th>4</th>\n",
       "      <td>162011</td>\n",
       "      <td>34in Ultrawide Monitor</td>\n",
       "      <td>1</td>\n",
       "      <td>379.99</td>\n",
       "      <td>03/10/19 00:01</td>\n",
       "      <td>764 13th St, San Francisco, CA 94016</td>\n",
       "      <td>03</td>\n",
       "    </tr>\n",
       "  </tbody>\n",
       "</table>\n",
       "</div>"
      ],
      "text/plain": [
       "  Order ID                     Product Quantity Ordered Price Each  \\\n",
       "0   162009                      iPhone                1        700   \n",
       "1   162009    Lightning Charging Cable                1      14.95   \n",
       "2   162009            Wired Headphones                2      11.99   \n",
       "3   162010  Bose SoundSport Headphones                1      99.99   \n",
       "4   162011      34in Ultrawide Monitor                1     379.99   \n",
       "\n",
       "       Order Date                      Purchase Address Month  \n",
       "0  03/28/19 20:59       942 Church St, Austin, TX 73301    03  \n",
       "1  03/28/19 20:59       942 Church St, Austin, TX 73301    03  \n",
       "2  03/28/19 20:59       942 Church St, Austin, TX 73301    03  \n",
       "3  03/17/19 05:39  261 10th St, San Francisco, CA 94016    03  \n",
       "4  03/10/19 00:01  764 13th St, San Francisco, CA 94016    03  "
      ]
     },
     "execution_count": 52,
     "metadata": {},
     "output_type": "execute_result"
    }
   ],
   "source": [
    "df['Month']=df['Order Date'].str.slice(0, 2, 1)\n",
    "df.head()"
   ]
  },
  {
   "cell_type": "code",
   "execution_count": 53,
   "id": "8ba5381b",
   "metadata": {},
   "outputs": [
    {
     "name": "stdout",
     "output_type": "stream",
     "text": [
      "{'12', '01', '02', '10', '11', '04', '03', '07', '09', '06', '08', '05'}\n"
     ]
    }
   ],
   "source": [
    "print(set(df['Month']))"
   ]
  },
  {
   "cell_type": "code",
   "execution_count": 44,
   "id": "ec7d1289",
   "metadata": {},
   "outputs": [],
   "source": [
    "# Task 2.3: Get rid of \"NAN\" and \"OR\" value\n"
   ]
  },
  {
   "cell_type": "code",
   "execution_count": 45,
   "id": "161a716f",
   "metadata": {},
   "outputs": [],
   "source": [
    "df=df.dropna(how='all')"
   ]
  },
  {
   "cell_type": "code",
   "execution_count": 51,
   "id": "6d6b746e",
   "metadata": {},
   "outputs": [],
   "source": [
    "# Kiem tra xem dong nao co gia tri \"OR\", gộp vào bị gộp cả tiêu đề\n",
    "df=df[df['Month']!='Or']"
   ]
  },
  {
   "cell_type": "code",
   "execution_count": 57,
   "id": "f3987051",
   "metadata": {},
   "outputs": [],
   "source": [
    "# Tháng nào có doanh số tốt nhất, doanh số tháng đó là bao nhiêu\n",
    "# Tính số lượng * đơn giá\n",
    "df['Sales'] = pd.to_numeric(df['Quantity Ordered'], downcast='integer')*pd.to_numeric(df['Price Each'], downcast='integer')\n",
    "# Lỗi do không phải dạng số nên không nhân được nên cần ép kiểu sang số nguyên\n",
    "# Kiểm tra kiểu dữ liệu \n",
    "# print(df['Quantity Ordered'].dtypes)\n"
   ]
  },
  {
   "cell_type": "code",
   "execution_count": 58,
   "id": "dfa41b50",
   "metadata": {},
   "outputs": [],
   "source": [
    "# Cắt collum và lưu lại\n",
    "moving_colum = df.pop('Sales');"
   ]
  },
  {
   "cell_type": "code",
   "execution_count": 59,
   "id": "ffdfce2e",
   "metadata": {},
   "outputs": [],
   "source": [
    "df.insert(4, 'Sales', moving_colum)"
   ]
  },
  {
   "cell_type": "code",
   "execution_count": 61,
   "id": "c8c83244",
   "metadata": {},
   "outputs": [
    {
     "data": {
      "text/html": [
       "<div>\n",
       "<style scoped>\n",
       "    .dataframe tbody tr th:only-of-type {\n",
       "        vertical-align: middle;\n",
       "    }\n",
       "\n",
       "    .dataframe tbody tr th {\n",
       "        vertical-align: top;\n",
       "    }\n",
       "\n",
       "    .dataframe thead th {\n",
       "        text-align: right;\n",
       "    }\n",
       "</style>\n",
       "<table border=\"1\" class=\"dataframe\">\n",
       "  <thead>\n",
       "    <tr style=\"text-align: right;\">\n",
       "      <th></th>\n",
       "      <th>Order ID</th>\n",
       "      <th>Product</th>\n",
       "      <th>Quantity Ordered</th>\n",
       "      <th>Price Each</th>\n",
       "      <th>Sales</th>\n",
       "      <th>Order Date</th>\n",
       "      <th>Purchase Address</th>\n",
       "      <th>Month</th>\n",
       "    </tr>\n",
       "  </thead>\n",
       "  <tbody>\n",
       "    <tr>\n",
       "      <th>0</th>\n",
       "      <td>162009</td>\n",
       "      <td>iPhone</td>\n",
       "      <td>1</td>\n",
       "      <td>700</td>\n",
       "      <td>700.00</td>\n",
       "      <td>03/28/19 20:59</td>\n",
       "      <td>942 Church St, Austin, TX 73301</td>\n",
       "      <td>03</td>\n",
       "    </tr>\n",
       "    <tr>\n",
       "      <th>1</th>\n",
       "      <td>162009</td>\n",
       "      <td>Lightning Charging Cable</td>\n",
       "      <td>1</td>\n",
       "      <td>14.95</td>\n",
       "      <td>14.95</td>\n",
       "      <td>03/28/19 20:59</td>\n",
       "      <td>942 Church St, Austin, TX 73301</td>\n",
       "      <td>03</td>\n",
       "    </tr>\n",
       "    <tr>\n",
       "      <th>2</th>\n",
       "      <td>162009</td>\n",
       "      <td>Wired Headphones</td>\n",
       "      <td>2</td>\n",
       "      <td>11.99</td>\n",
       "      <td>23.98</td>\n",
       "      <td>03/28/19 20:59</td>\n",
       "      <td>942 Church St, Austin, TX 73301</td>\n",
       "      <td>03</td>\n",
       "    </tr>\n",
       "    <tr>\n",
       "      <th>3</th>\n",
       "      <td>162010</td>\n",
       "      <td>Bose SoundSport Headphones</td>\n",
       "      <td>1</td>\n",
       "      <td>99.99</td>\n",
       "      <td>99.99</td>\n",
       "      <td>03/17/19 05:39</td>\n",
       "      <td>261 10th St, San Francisco, CA 94016</td>\n",
       "      <td>03</td>\n",
       "    </tr>\n",
       "    <tr>\n",
       "      <th>4</th>\n",
       "      <td>162011</td>\n",
       "      <td>34in Ultrawide Monitor</td>\n",
       "      <td>1</td>\n",
       "      <td>379.99</td>\n",
       "      <td>379.99</td>\n",
       "      <td>03/10/19 00:01</td>\n",
       "      <td>764 13th St, San Francisco, CA 94016</td>\n",
       "      <td>03</td>\n",
       "    </tr>\n",
       "  </tbody>\n",
       "</table>\n",
       "</div>"
      ],
      "text/plain": [
       "  Order ID                     Product Quantity Ordered Price Each   Sales  \\\n",
       "0   162009                      iPhone                1        700  700.00   \n",
       "1   162009    Lightning Charging Cable                1      14.95   14.95   \n",
       "2   162009            Wired Headphones                2      11.99   23.98   \n",
       "3   162010  Bose SoundSport Headphones                1      99.99   99.99   \n",
       "4   162011      34in Ultrawide Monitor                1     379.99  379.99   \n",
       "\n",
       "       Order Date                      Purchase Address Month  \n",
       "0  03/28/19 20:59       942 Church St, Austin, TX 73301    03  \n",
       "1  03/28/19 20:59       942 Church St, Austin, TX 73301    03  \n",
       "2  03/28/19 20:59       942 Church St, Austin, TX 73301    03  \n",
       "3  03/17/19 05:39  261 10th St, San Francisco, CA 94016    03  \n",
       "4  03/10/19 00:01  764 13th St, San Francisco, CA 94016    03  "
      ]
     },
     "execution_count": 61,
     "metadata": {},
     "output_type": "execute_result"
    }
   ],
   "source": [
    "df.head()"
   ]
  },
  {
   "cell_type": "code",
   "execution_count": 67,
   "id": "673f5955",
   "metadata": {},
   "outputs": [],
   "source": [
    "sales_value = df.groupby('Month').sum()['Sales']\n"
   ]
  },
  {
   "cell_type": "code",
   "execution_count": 72,
   "id": "f6620da7",
   "metadata": {},
   "outputs": [
    {
     "data": {
      "text/plain": [
       "4613443.34"
      ]
     },
     "execution_count": 72,
     "metadata": {},
     "output_type": "execute_result"
    }
   ],
   "source": [
    "sales_value.max()"
   ]
  },
  {
   "cell_type": "code",
   "execution_count": 74,
   "id": "dd18ad09",
   "metadata": {},
   "outputs": [
    {
     "data": {
      "image/png": "[encoded data removed]",
      "text/plain": [
       "<Figure size 640x480 with 1 Axes>"
      ]
     },
     "metadata": {},
     "output_type": "display_data"
    }
   ],
   "source": [
    "# Vẽ biểu đồ \n",
    "months = range(1, 13)\n",
    "plt.bar(x=months, height=sales_value)\n",
    "plt.xticks(months)\n",
    "plt.xlabel(\"Month\")\n",
    "plt.ylabel(\"Sale Value\")\n",
    "plt.show()"
   ]
  },
  {
   "cell_type": "code",
   "execution_count": 75,
   "id": "4940228a",
   "metadata": {},
   "outputs": [],
   "source": [
    "# Thành phố nào có doanh số lớn nhất"
   ]
  },
  {
   "cell_type": "code",
   "execution_count": 87,
   "id": "f1a2418b",
   "metadata": {},
   "outputs": [],
   "source": [
    "# sample_address= '942 Church St, Austin, TX 73301'\n",
    "# s = sample_address.split(',')\n",
    "# print(s[1])\n",
    "\n",
    "# def getCity(sample_address): \n",
    "#     return sample_address.split(',')[1]\n",
    "address_to_city = lambda address:address.split(',')[1]"
   ]
  },
  {
   "cell_type": "code",
   "execution_count": 88,
   "id": "ed853f9d",
   "metadata": {},
   "outputs": [],
   "source": [
    "df['City'] = df['Purchase Address'].apply(address_to_city)"
   ]
  },
  {
   "cell_type": "code",
   "execution_count": 93,
   "id": "94384e63",
   "metadata": {},
   "outputs": [
    {
     "data": {
      "text/html": [
       "<div>\n",
       "<style scoped>\n",
       "    .dataframe tbody tr th:only-of-type {\n",
       "        vertical-align: middle;\n",
       "    }\n",
       "\n",
       "    .dataframe tbody tr th {\n",
       "        vertical-align: top;\n",
       "    }\n",
       "\n",
       "    .dataframe thead th {\n",
       "        text-align: right;\n",
       "    }\n",
       "</style>\n",
       "<table border=\"1\" class=\"dataframe\">\n",
       "  <thead>\n",
       "    <tr style=\"text-align: right;\">\n",
       "      <th></th>\n",
       "      <th>Order ID</th>\n",
       "      <th>Product</th>\n",
       "      <th>Quantity Ordered</th>\n",
       "      <th>Price Each</th>\n",
       "      <th>Sales</th>\n",
       "      <th>Order Date</th>\n",
       "      <th>City</th>\n",
       "      <th>Purchase Address</th>\n",
       "      <th>Month</th>\n",
       "    </tr>\n",
       "  </thead>\n",
       "  <tbody>\n",
       "    <tr>\n",
       "      <th>0</th>\n",
       "      <td>162009</td>\n",
       "      <td>iPhone</td>\n",
       "      <td>1</td>\n",
       "      <td>700</td>\n",
       "      <td>700.00</td>\n",
       "      <td>03/28/19 20:59</td>\n",
       "      <td>Austin</td>\n",
       "      <td>942 Church St, Austin, TX 73301</td>\n",
       "      <td>03</td>\n",
       "    </tr>\n",
       "    <tr>\n",
       "      <th>1</th>\n",
       "      <td>162009</td>\n",
       "      <td>Lightning Charging Cable</td>\n",
       "      <td>1</td>\n",
       "      <td>14.95</td>\n",
       "      <td>14.95</td>\n",
       "      <td>03/28/19 20:59</td>\n",
       "      <td>Austin</td>\n",
       "      <td>942 Church St, Austin, TX 73301</td>\n",
       "      <td>03</td>\n",
       "    </tr>\n",
       "    <tr>\n",
       "      <th>2</th>\n",
       "      <td>162009</td>\n",
       "      <td>Wired Headphones</td>\n",
       "      <td>2</td>\n",
       "      <td>11.99</td>\n",
       "      <td>23.98</td>\n",
       "      <td>03/28/19 20:59</td>\n",
       "      <td>Austin</td>\n",
       "      <td>942 Church St, Austin, TX 73301</td>\n",
       "      <td>03</td>\n",
       "    </tr>\n",
       "    <tr>\n",
       "      <th>3</th>\n",
       "      <td>162010</td>\n",
       "      <td>Bose SoundSport Headphones</td>\n",
       "      <td>1</td>\n",
       "      <td>99.99</td>\n",
       "      <td>99.99</td>\n",
       "      <td>03/17/19 05:39</td>\n",
       "      <td>San Francisco</td>\n",
       "      <td>261 10th St, San Francisco, CA 94016</td>\n",
       "      <td>03</td>\n",
       "    </tr>\n",
       "    <tr>\n",
       "      <th>4</th>\n",
       "      <td>162011</td>\n",
       "      <td>34in Ultrawide Monitor</td>\n",
       "      <td>1</td>\n",
       "      <td>379.99</td>\n",
       "      <td>379.99</td>\n",
       "      <td>03/10/19 00:01</td>\n",
       "      <td>San Francisco</td>\n",
       "      <td>764 13th St, San Francisco, CA 94016</td>\n",
       "      <td>03</td>\n",
       "    </tr>\n",
       "  </tbody>\n",
       "</table>\n",
       "</div>"
      ],
      "text/plain": [
       "  Order ID                     Product Quantity Ordered Price Each   Sales  \\\n",
       "0   162009                      iPhone                1        700  700.00   \n",
       "1   162009    Lightning Charging Cable                1      14.95   14.95   \n",
       "2   162009            Wired Headphones                2      11.99   23.98   \n",
       "3   162010  Bose SoundSport Headphones                1      99.99   99.99   \n",
       "4   162011      34in Ultrawide Monitor                1     379.99  379.99   \n",
       "\n",
       "       Order Date            City                      Purchase Address Month  \n",
       "0  03/28/19 20:59          Austin       942 Church St, Austin, TX 73301    03  \n",
       "1  03/28/19 20:59          Austin       942 Church St, Austin, TX 73301    03  \n",
       "2  03/28/19 20:59          Austin       942 Church St, Austin, TX 73301    03  \n",
       "3  03/17/19 05:39   San Francisco  261 10th St, San Francisco, CA 94016    03  \n",
       "4  03/10/19 00:01   San Francisco  764 13th St, San Francisco, CA 94016    03  "
      ]
     },
     "execution_count": 93,
     "metadata": {},
     "output_type": "execute_result"
    }
   ],
   "source": [
    "df.head()"
   ]
  },
  {
   "cell_type": "code",
   "execution_count": 91,
   "id": "a85fd1be",
   "metadata": {},
   "outputs": [],
   "source": [
    "city_collum = df.pop('City')"
   ]
  },
  {
   "cell_type": "code",
   "execution_count": 92,
   "id": "3dafd425",
   "metadata": {},
   "outputs": [],
   "source": [
    "df.insert(6, 'City', city_collum)"
   ]
  },
  {
   "cell_type": "code",
   "execution_count": 113,
   "id": "943c658d",
   "metadata": {},
   "outputs": [
    {
     "data": {
      "text/plain": [
       "City\n",
       " Atlanta          2795498.58\n",
       " Austin           1819581.75\n",
       " Boston           3661642.01\n",
       " Dallas           2767975.40\n",
       " Los Angeles      5452570.80\n",
       " New York City    4664317.43\n",
       " Portland         2320490.61\n",
       " San Francisco    8262203.91\n",
       " Seattle          2747755.48\n",
       "Name: Sales, dtype: float64"
      ]
     },
     "execution_count": 113,
     "metadata": {},
     "output_type": "execute_result"
    }
   ],
   "source": [
    "sales_by_city=df.groupby('City').sum()['Sales']\n",
    "sales_by_city"
   ]
  },
  {
   "cell_type": "code",
   "execution_count": 114,
   "id": "3a93c6d9",
   "metadata": {},
   "outputs": [
    {
     "name": "stdout",
     "output_type": "stream",
     "text": [
      "[' Atlanta', ' Austin', ' Boston', ' Dallas', ' Los Angeles', ' New York City', ' Portland', ' San Francisco', ' Seattle']\n"
     ]
    },
    {
     "ename": "KeyError",
     "evalue": "'Sales'",
     "output_type": "error",
     "traceback": [
      "\u001b[0;31m---------------------------------------------------------------------------\u001b[0m",
      "\u001b[0;31mKeyError\u001b[0m                                  Traceback (most recent call last)",
      "\u001b[0;32m~/opt/anaconda3/lib/python3.9/site-packages/pandas/core/indexes/base.py\u001b[0m in \u001b[0;36mget_loc\u001b[0;34m(self, key, method, tolerance)\u001b[0m\n\u001b[1;32m   3628\u001b[0m             \u001b[0;32mtry\u001b[0m\u001b[0;34m:\u001b[0m\u001b[0;34m\u001b[0m\u001b[0;34m\u001b[0m\u001b[0m\n\u001b[0;32m-> 3629\u001b[0;31m                 \u001b[0;32mreturn\u001b[0m \u001b[0mself\u001b[0m\u001b[0;34m.\u001b[0m\u001b[0m_engine\u001b[0m\u001b[0;34m.\u001b[0m\u001b[0mget_loc\u001b[0m\u001b[0;34m(\u001b[0m\u001b[0mcasted_key\u001b[0m\u001b[0;34m)\u001b[0m\u001b[0;34m\u001b[0m\u001b[0;34m\u001b[0m\u001b[0m\n\u001b[0m\u001b[1;32m   3630\u001b[0m             \u001b[0;32mexcept\u001b[0m \u001b[0mKeyError\u001b[0m \u001b[0;32mas\u001b[0m \u001b[0merr\u001b[0m\u001b[0;34m:\u001b[0m\u001b[0;34m\u001b[0m\u001b[0;34m\u001b[0m\u001b[0m\n",
      "\u001b[0;32m~/opt/anaconda3/lib/python3.9/site-packages/pandas/_libs/index.pyx\u001b[0m in \u001b[0;36mpandas._libs.index.IndexEngine.get_loc\u001b[0;34m()\u001b[0m\n",
      "\u001b[0;32m~/opt/anaconda3/lib/python3.9/site-packages/pandas/_libs/index.pyx\u001b[0m in \u001b[0;36mpandas._libs.index.IndexEngine.get_loc\u001b[0;34m()\u001b[0m\n",
      "\u001b[0;32mpandas/_libs/hashtable_class_helper.pxi\u001b[0m in \u001b[0;36mpandas._libs.hashtable.PyObjectHashTable.get_item\u001b[0;34m()\u001b[0m\n",
      "\u001b[0;32mpandas/_libs/hashtable_class_helper.pxi\u001b[0m in \u001b[0;36mpandas._libs.hashtable.PyObjectHashTable.get_item\u001b[0;34m()\u001b[0m\n",
      "\u001b[0;31mKeyError\u001b[0m: 'Sales'",
      "\nThe above exception was the direct cause of the following exception:\n",
      "\u001b[0;31mKeyError\u001b[0m                                  Traceback (most recent call last)",
      "\u001b[0;32m/var/folders/wx/328y56rd5zv3l9bg36vyq7280000gn/T/ipykernel_16452/669549339.py\u001b[0m in \u001b[0;36m<module>\u001b[0;34m\u001b[0m\n\u001b[1;32m      3\u001b[0m     \u001b[0mcities\u001b[0m\u001b[0;34m.\u001b[0m\u001b[0mappend\u001b[0m\u001b[0;34m(\u001b[0m\u001b[0mc\u001b[0m\u001b[0;34m)\u001b[0m\u001b[0;34m\u001b[0m\u001b[0;34m\u001b[0m\u001b[0m\n\u001b[1;32m      4\u001b[0m \u001b[0mprint\u001b[0m\u001b[0;34m(\u001b[0m\u001b[0mcities\u001b[0m\u001b[0;34m)\u001b[0m\u001b[0;34m\u001b[0m\u001b[0;34m\u001b[0m\u001b[0m\n\u001b[0;32m----> 5\u001b[0;31m \u001b[0mplt\u001b[0m\u001b[0;34m.\u001b[0m\u001b[0mbar\u001b[0m\u001b[0;34m(\u001b[0m\u001b[0mx\u001b[0m\u001b[0;34m=\u001b[0m\u001b[0mcities\u001b[0m\u001b[0;34m,\u001b[0m \u001b[0mheight\u001b[0m\u001b[0;34m=\u001b[0m\u001b[0msales_by_city\u001b[0m\u001b[0;34m[\u001b[0m\u001b[0;34m'Sales'\u001b[0m\u001b[0;34m]\u001b[0m\u001b[0;34m)\u001b[0m\u001b[0;34m\u001b[0m\u001b[0;34m\u001b[0m\u001b[0m\n\u001b[0m\u001b[1;32m      6\u001b[0m \u001b[0mplt\u001b[0m\u001b[0;34m.\u001b[0m\u001b[0mxticks\u001b[0m\u001b[0;34m(\u001b[0m\u001b[0mcities\u001b[0m\u001b[0;34m,\u001b[0m \u001b[0mrotation\u001b[0m\u001b[0;34m=\u001b[0m\u001b[0;36m90\u001b[0m\u001b[0;34m,\u001b[0m \u001b[0msize\u001b[0m\u001b[0;34m=\u001b[0m\u001b[0;36m6\u001b[0m\u001b[0;34m)\u001b[0m\u001b[0;34m\u001b[0m\u001b[0;34m\u001b[0m\u001b[0m\n\u001b[1;32m      7\u001b[0m \u001b[0mplt\u001b[0m\u001b[0;34m.\u001b[0m\u001b[0mshow\u001b[0m\u001b[0;34m(\u001b[0m\u001b[0;34m)\u001b[0m\u001b[0;34m\u001b[0m\u001b[0;34m\u001b[0m\u001b[0m\n",
      "\u001b[0;32m~/opt/anaconda3/lib/python3.9/site-packages/pandas/core/series.py\u001b[0m in \u001b[0;36m__getitem__\u001b[0;34m(self, key)\u001b[0m\n\u001b[1;32m    956\u001b[0m \u001b[0;34m\u001b[0m\u001b[0m\n\u001b[1;32m    957\u001b[0m         \u001b[0;32melif\u001b[0m \u001b[0mkey_is_scalar\u001b[0m\u001b[0;34m:\u001b[0m\u001b[0;34m\u001b[0m\u001b[0;34m\u001b[0m\u001b[0m\n\u001b[0;32m--> 958\u001b[0;31m             \u001b[0;32mreturn\u001b[0m \u001b[0mself\u001b[0m\u001b[0;34m.\u001b[0m\u001b[0m_get_value\u001b[0m\u001b[0;34m(\u001b[0m\u001b[0mkey\u001b[0m\u001b[0;34m)\u001b[0m\u001b[0;34m\u001b[0m\u001b[0;34m\u001b[0m\u001b[0m\n\u001b[0m\u001b[1;32m    959\u001b[0m \u001b[0;34m\u001b[0m\u001b[0m\n\u001b[1;32m    960\u001b[0m         \u001b[0;32mif\u001b[0m \u001b[0mis_hashable\u001b[0m\u001b[0;34m(\u001b[0m\u001b[0mkey\u001b[0m\u001b[0;34m)\u001b[0m\u001b[0;34m:\u001b[0m\u001b[0;34m\u001b[0m\u001b[0;34m\u001b[0m\u001b[0m\n",
      "\u001b[0;32m~/opt/anaconda3/lib/python3.9/site-packages/pandas/core/series.py\u001b[0m in \u001b[0;36m_get_value\u001b[0;34m(self, label, takeable)\u001b[0m\n\u001b[1;32m   1067\u001b[0m \u001b[0;34m\u001b[0m\u001b[0m\n\u001b[1;32m   1068\u001b[0m         \u001b[0;31m# Similar to Index.get_value, but we do not fall back to positional\u001b[0m\u001b[0;34m\u001b[0m\u001b[0;34m\u001b[0m\u001b[0m\n\u001b[0;32m-> 1069\u001b[0;31m         \u001b[0mloc\u001b[0m \u001b[0;34m=\u001b[0m \u001b[0mself\u001b[0m\u001b[0;34m.\u001b[0m\u001b[0mindex\u001b[0m\u001b[0;34m.\u001b[0m\u001b[0mget_loc\u001b[0m\u001b[0;34m(\u001b[0m\u001b[0mlabel\u001b[0m\u001b[0;34m)\u001b[0m\u001b[0;34m\u001b[0m\u001b[0;34m\u001b[0m\u001b[0m\n\u001b[0m\u001b[1;32m   1070\u001b[0m         \u001b[0;32mreturn\u001b[0m \u001b[0mself\u001b[0m\u001b[0;34m.\u001b[0m\u001b[0mindex\u001b[0m\u001b[0;34m.\u001b[0m\u001b[0m_get_values_for_loc\u001b[0m\u001b[0;34m(\u001b[0m\u001b[0mself\u001b[0m\u001b[0;34m,\u001b[0m \u001b[0mloc\u001b[0m\u001b[0;34m,\u001b[0m \u001b[0mlabel\u001b[0m\u001b[0;34m)\u001b[0m\u001b[0;34m\u001b[0m\u001b[0;34m\u001b[0m\u001b[0m\n\u001b[1;32m   1071\u001b[0m \u001b[0;34m\u001b[0m\u001b[0m\n",
      "\u001b[0;32m~/opt/anaconda3/lib/python3.9/site-packages/pandas/core/indexes/base.py\u001b[0m in \u001b[0;36mget_loc\u001b[0;34m(self, key, method, tolerance)\u001b[0m\n\u001b[1;32m   3629\u001b[0m                 \u001b[0;32mreturn\u001b[0m \u001b[0mself\u001b[0m\u001b[0;34m.\u001b[0m\u001b[0m_engine\u001b[0m\u001b[0;34m.\u001b[0m\u001b[0mget_loc\u001b[0m\u001b[0;34m(\u001b[0m\u001b[0mcasted_key\u001b[0m\u001b[0;34m)\u001b[0m\u001b[0;34m\u001b[0m\u001b[0;34m\u001b[0m\u001b[0m\n\u001b[1;32m   3630\u001b[0m             \u001b[0;32mexcept\u001b[0m \u001b[0mKeyError\u001b[0m \u001b[0;32mas\u001b[0m \u001b[0merr\u001b[0m\u001b[0;34m:\u001b[0m\u001b[0;34m\u001b[0m\u001b[0;34m\u001b[0m\u001b[0m\n\u001b[0;32m-> 3631\u001b[0;31m                 \u001b[0;32mraise\u001b[0m \u001b[0mKeyError\u001b[0m\u001b[0;34m(\u001b[0m\u001b[0mkey\u001b[0m\u001b[0;34m)\u001b[0m \u001b[0;32mfrom\u001b[0m \u001b[0merr\u001b[0m\u001b[0;34m\u001b[0m\u001b[0;34m\u001b[0m\u001b[0m\n\u001b[0m\u001b[1;32m   3632\u001b[0m             \u001b[0;32mexcept\u001b[0m \u001b[0mTypeError\u001b[0m\u001b[0;34m:\u001b[0m\u001b[0;34m\u001b[0m\u001b[0;34m\u001b[0m\u001b[0m\n\u001b[1;32m   3633\u001b[0m                 \u001b[0;31m# If we have a listlike key, _check_indexing_error will raise\u001b[0m\u001b[0;34m\u001b[0m\u001b[0;34m\u001b[0m\u001b[0m\n",
      "\u001b[0;31mKeyError\u001b[0m: 'Sales'"
     ]
    }
   ],
   "source": [
    "cities = []\n",
    "for c, s in sales_by_city.items():\n",
    "    cities.append(c)\n",
    "print(cities)\n",
    "plt.bar(x=cities, height=sales_by_city['Sales'])\n",
    "plt.xticks(cities, rotation=90, size=6)\n",
    "plt.show()"
   ]
  },
  {
   "cell_type": "code",
   "execution_count": null,
   "id": "e92c6baf",
   "metadata": {},
   "outputs": [],
   "source": []
  },
  {
   "cell_type": "code",
   "execution_count": null,
   "id": "9d5110e1",
   "metadata": {},
   "outputs": [],
   "source": [
    "\n"
   ]
  },
  {
   "cell_type": "code",
   "execution_count": null,
   "id": "36d6ffc2",
   "metadata": {},
   "outputs": [],
   "source": []
  }
 ],
 "metadata": {
  "kernelspec": {
   "display_name": "Python 3 (ipykernel)",
   "language": "python",
   "name": "python3"
  },
  "language_info": {
   "codemirror_mode": {
    "name": "ipython",
    "version": 3
   },
   "file_extension": ".py",
   "mimetype": "text/x-python",
   "name": "python",
   "nbconvert_exporter": "python",
   "pygments_lexer": "ipython3",
   "version": "3.9.13"
  }
 },
 "nbformat": 4,
 "nbformat_minor": 5
}
